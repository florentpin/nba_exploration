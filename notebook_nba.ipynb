{
 "cells": [
  {
   "cell_type": "code",
   "execution_count": 1,
   "metadata": {},
   "outputs": [],
   "source": [
    "# Ne pas toucher\n",
    "import streamlit as st # Lancer une application\n",
    "import pandas as pd # Manipuler des fichiers Excel\n",
    "import numpy as np # Mathematiques\n",
    "import pydeck as pdk # Creer des cartes geographiques\n",
    "\n",
    "import plotly.express as px # Creer des graphiques interactifs\n",
    "import plotly.graph_objects as go # Creer des graphiques interactifs"
   ]
  },
  {
   "cell_type": "code",
   "execution_count": 4,
   "metadata": {},
   "outputs": [],
   "source": [
    "df_game_nba = pd.read_csv('data/game.csv')"
   ]
  },
  {
   "cell_type": "code",
   "execution_count": 13,
   "metadata": {},
   "outputs": [
    {
     "name": "stdout",
     "output_type": "stream",
     "text": [
      "Index(['season_id', 'team_id_home', 'team_abbreviation_home', 'team_name_home',\n",
      "       'game_id', 'game_date', 'matchup_home', 'wl_home', 'min', 'fgm_home',\n",
      "       'fga_home', 'fg_pct_home', 'fg3m_home', 'fg3a_home', 'fg3_pct_home',\n",
      "       'ftm_home', 'fta_home', 'ft_pct_home', 'oreb_home', 'dreb_home',\n",
      "       'reb_home', 'ast_home', 'stl_home', 'blk_home', 'tov_home', 'pf_home',\n",
      "       'pts_home', 'plus_minus_home', 'video_available_home', 'team_id_away',\n",
      "       'team_abbreviation_away', 'team_name_away', 'matchup_away', 'wl_away',\n",
      "       'fgm_away', 'fga_away', 'fg_pct_away', 'fg3m_away', 'fg3a_away',\n",
      "       'fg3_pct_away', 'ftm_away', 'fta_away', 'ft_pct_away', 'oreb_away',\n",
      "       'dreb_away', 'reb_away', 'ast_away', 'stl_away', 'blk_away', 'tov_away',\n",
      "       'pf_away', 'pts_away', 'plus_minus_away', 'video_available_away',\n",
      "       'season_type'],\n",
      "      dtype='object')\n"
     ]
    }
   ],
   "source": [
    "print(df_game_nba.keys())"
   ]
  },
  {
   "cell_type": "code",
   "execution_count": null,
   "metadata": {},
   "outputs": [],
   "source": []
  }
 ],
 "metadata": {
  "kernelspec": {
   "display_name": "Python 3",
   "language": "python",
   "name": "python3"
  },
  "language_info": {
   "codemirror_mode": {
    "name": "ipython",
    "version": 3
   },
   "file_extension": ".py",
   "mimetype": "text/x-python",
   "name": "python",
   "nbconvert_exporter": "python",
   "pygments_lexer": "ipython3",
   "version": "3.11.0"
  },
  "orig_nbformat": 4,
  "vscode": {
   "interpreter": {
    "hash": "1a1af0ee75eeea9e2e1ee996c87e7a2b11a0bebd85af04bb136d915cefc0abce"
   }
  }
 },
 "nbformat": 4,
 "nbformat_minor": 2
}
